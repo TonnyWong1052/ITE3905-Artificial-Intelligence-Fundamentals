{
 "cells": [
  {
   "cell_type": "code",
   "execution_count": 1,
   "id": "fcce7c4a",
   "metadata": {},
   "outputs": [],
   "source": [
    "import turicreate as tc"
   ]
  },
  {
   "cell_type": "code",
   "execution_count": 2,
   "id": "19853e6a",
   "metadata": {},
   "outputs": [],
   "source": [
    "data = tc.image_analysis.load_images('Images', with_path=True)\n",
    "data['label'] = data['path'].apply(lambda path:\n",
    "                                    'HKD 20' if '/10dollar' in path else\n",
    "                                    'HKD 50' if '/50dollar' in path else\n",
    "                                    'HKD 100' if '/100dollar' in path else\n",
    "                                    'HKD 500' if '/500dollar' in path else\n",
    "                                    'HKD 1000' if '/1000dollar' in path else\n",
    "                                    'unknown')\n",
    "data.save('HongKong-dollar.sframe')"
   ]
  },
  {
   "cell_type": "code",
   "execution_count": null,
   "outputs": [
    {
     "data": {
      "text/plain": "Using GPU (Apple M1) to extract features.",
      "text/html": "<pre>Using GPU (Apple M1) to extract features.</pre>"
     },
     "metadata": {},
     "output_type": "display_data"
    },
    {
     "data": {
      "text/plain": "Analyzing and extracting image features.",
      "text/html": "<pre>Analyzing and extracting image features.</pre>"
     },
     "metadata": {},
     "output_type": "display_data"
    },
    {
     "data": {
      "text/plain": "+------------------+--------------+------------------+",
      "text/html": "<pre>+------------------+--------------+------------------+</pre>"
     },
     "metadata": {},
     "output_type": "display_data"
    },
    {
     "data": {
      "text/plain": "| Images Processed | Elapsed Time | Percent Complete |",
      "text/html": "<pre>| Images Processed | Elapsed Time | Percent Complete |</pre>"
     },
     "metadata": {},
     "output_type": "display_data"
    },
    {
     "data": {
      "text/plain": "+------------------+--------------+------------------+",
      "text/html": "<pre>+------------------+--------------+------------------+</pre>"
     },
     "metadata": {},
     "output_type": "display_data"
    },
    {
     "data": {
      "text/plain": "| 64               | 558.237ms    | 7.5%             |",
      "text/html": "<pre>| 64               | 558.237ms    | 7.5%             |</pre>"
     },
     "metadata": {},
     "output_type": "display_data"
    },
    {
     "data": {
      "text/plain": "| 128              | 677.777ms    | 15.25%           |",
      "text/html": "<pre>| 128              | 677.777ms    | 15.25%           |</pre>"
     },
     "metadata": {},
     "output_type": "display_data"
    },
    {
     "data": {
      "text/plain": "| 192              | 795.767ms    | 23%              |",
      "text/html": "<pre>| 192              | 795.767ms    | 23%              |</pre>"
     },
     "metadata": {},
     "output_type": "display_data"
    },
    {
     "data": {
      "text/plain": "| 256              | 914.861ms    | 30.75%           |",
      "text/html": "<pre>| 256              | 914.861ms    | 30.75%           |</pre>"
     },
     "metadata": {},
     "output_type": "display_data"
    },
    {
     "data": {
      "text/plain": "| 320              | 1.03s        | 38.25%           |",
      "text/html": "<pre>| 320              | 1.03s        | 38.25%           |</pre>"
     },
     "metadata": {},
     "output_type": "display_data"
    },
    {
     "data": {
      "text/plain": "| 640              | 1.61s        | 76.75%           |",
      "text/html": "<pre>| 640              | 1.61s        | 76.75%           |</pre>"
     },
     "metadata": {},
     "output_type": "display_data"
    },
    {
     "data": {
      "text/plain": "| 818              | 1.93s        | 100%             |",
      "text/html": "<pre>| 818              | 1.93s        | 100%             |</pre>"
     },
     "metadata": {},
     "output_type": "display_data"
    },
    {
     "data": {
      "text/plain": "+------------------+--------------+------------------+",
      "text/html": "<pre>+------------------+--------------+------------------+</pre>"
     },
     "metadata": {},
     "output_type": "display_data"
    },
    {
     "name": "stdout",
     "output_type": "stream",
     "text": [
      "PROGRESS: Creating a validation set from 5 percent of training data. This may take a while.\n",
      "          You can set ``validation_set=None`` to disable validation tracking.\n",
      "\n"
     ]
    },
    {
     "data": {
      "text/plain": "Logistic regression:",
      "text/html": "<pre>Logistic regression:</pre>"
     },
     "metadata": {},
     "output_type": "display_data"
    },
    {
     "data": {
      "text/plain": "--------------------------------------------------------",
      "text/html": "<pre>--------------------------------------------------------</pre>"
     },
     "metadata": {},
     "output_type": "display_data"
    },
    {
     "data": {
      "text/plain": "Number of examples          : 777",
      "text/html": "<pre>Number of examples          : 777</pre>"
     },
     "metadata": {},
     "output_type": "display_data"
    },
    {
     "data": {
      "text/plain": "Number of classes           : 6",
      "text/html": "<pre>Number of classes           : 6</pre>"
     },
     "metadata": {},
     "output_type": "display_data"
    },
    {
     "data": {
      "text/plain": "Number of feature columns   : 1",
      "text/html": "<pre>Number of feature columns   : 1</pre>"
     },
     "metadata": {},
     "output_type": "display_data"
    },
    {
     "data": {
      "text/plain": "Number of unpacked features : 2048",
      "text/html": "<pre>Number of unpacked features : 2048</pre>"
     },
     "metadata": {},
     "output_type": "display_data"
    },
    {
     "data": {
      "text/plain": "Number of coefficients      : 10245",
      "text/html": "<pre>Number of coefficients      : 10245</pre>"
     },
     "metadata": {},
     "output_type": "display_data"
    },
    {
     "data": {
      "text/plain": "Starting L-BFGS",
      "text/html": "<pre>Starting L-BFGS</pre>"
     },
     "metadata": {},
     "output_type": "display_data"
    },
    {
     "data": {
      "text/plain": "--------------------------------------------------------",
      "text/html": "<pre>--------------------------------------------------------</pre>"
     },
     "metadata": {},
     "output_type": "display_data"
    },
    {
     "data": {
      "text/plain": "+-----------+----------+-----------+--------------+-------------------+---------------------+",
      "text/html": "<pre>+-----------+----------+-----------+--------------+-------------------+---------------------+</pre>"
     },
     "metadata": {},
     "output_type": "display_data"
    },
    {
     "data": {
      "text/plain": "| Iteration | Passes   | Step size | Elapsed Time | Training Accuracy | Validation Accuracy |",
      "text/html": "<pre>| Iteration | Passes   | Step size | Elapsed Time | Training Accuracy | Validation Accuracy |</pre>"
     },
     "metadata": {},
     "output_type": "display_data"
    },
    {
     "data": {
      "text/plain": "+-----------+----------+-----------+--------------+-------------------+---------------------+",
      "text/html": "<pre>+-----------+----------+-----------+--------------+-------------------+---------------------+</pre>"
     },
     "metadata": {},
     "output_type": "display_data"
    },
    {
     "data": {
      "text/plain": "| 0         | 5        | 0.044274  | 0.067008     | 0.211068          | 0.219512            |",
      "text/html": "<pre>| 0         | 5        | 0.044274  | 0.067008     | 0.211068          | 0.219512            |</pre>"
     },
     "metadata": {},
     "output_type": "display_data"
    },
    {
     "data": {
      "text/plain": "| 1         | 10       | 3.763310  | 0.174478     | 0.575290          | 0.512195            |",
      "text/html": "<pre>| 1         | 10       | 3.763310  | 0.174478     | 0.575290          | 0.512195            |</pre>"
     },
     "metadata": {},
     "output_type": "display_data"
    },
    {
     "data": {
      "text/plain": "| 2         | 11       | 3.763310  | 0.220734     | 0.525097          | 0.585366            |",
      "text/html": "<pre>| 2         | 11       | 3.763310  | 0.220734     | 0.525097          | 0.585366            |</pre>"
     },
     "metadata": {},
     "output_type": "display_data"
    },
    {
     "data": {
      "text/plain": "| 3         | 16       | 1.561243  | 0.322930     | 0.797941          | 0.878049            |",
      "text/html": "<pre>| 3         | 16       | 1.561243  | 0.322930     | 0.797941          | 0.878049            |</pre>"
     },
     "metadata": {},
     "output_type": "display_data"
    },
    {
     "data": {
      "text/plain": "| 4         | 17       | 1.561243  | 0.369392     | 0.797941          | 0.804878            |",
      "text/html": "<pre>| 4         | 17       | 1.561243  | 0.369392     | 0.797941          | 0.804878            |</pre>"
     },
     "metadata": {},
     "output_type": "display_data"
    },
    {
     "data": {
      "text/plain": "| 9         | 23       | 1.333613  | 0.625218     | 0.884170          | 0.804878            |",
      "text/html": "<pre>| 9         | 23       | 1.333613  | 0.625218     | 0.884170          | 0.804878            |</pre>"
     },
     "metadata": {},
     "output_type": "display_data"
    },
    {
     "data": {
      "text/plain": "+-----------+----------+-----------+--------------+-------------------+---------------------+",
      "text/html": "<pre>+-----------+----------+-----------+--------------+-------------------+---------------------+</pre>"
     },
     "metadata": {},
     "output_type": "display_data"
    },
    {
     "data": {
      "text/plain": "Analyzing and extracting image features.",
      "text/html": "<pre>Analyzing and extracting image features.</pre>"
     },
     "metadata": {},
     "output_type": "display_data"
    },
    {
     "data": {
      "text/plain": "+------------------+--------------+------------------+",
      "text/html": "<pre>+------------------+--------------+------------------+</pre>"
     },
     "metadata": {},
     "output_type": "display_data"
    },
    {
     "data": {
      "text/plain": "| Images Processed | Elapsed Time | Percent Complete |",
      "text/html": "<pre>| Images Processed | Elapsed Time | Percent Complete |</pre>"
     },
     "metadata": {},
     "output_type": "display_data"
    },
    {
     "data": {
      "text/plain": "+------------------+--------------+------------------+",
      "text/html": "<pre>+------------------+--------------+------------------+</pre>"
     },
     "metadata": {},
     "output_type": "display_data"
    },
    {
     "data": {
      "text/plain": "| 64               | 17.477ms     | 25%              |",
      "text/html": "<pre>| 64               | 17.477ms     | 25%              |</pre>"
     },
     "metadata": {},
     "output_type": "display_data"
    },
    {
     "data": {
      "text/plain": "| 128              | 395.292ms    | 50%              |",
      "text/html": "<pre>| 128              | 395.292ms    | 50%              |</pre>"
     },
     "metadata": {},
     "output_type": "display_data"
    },
    {
     "data": {
      "text/plain": "| 192              | 518.5ms      | 75%              |",
      "text/html": "<pre>| 192              | 518.5ms      | 75%              |</pre>"
     },
     "metadata": {},
     "output_type": "display_data"
    },
    {
     "data": {
      "text/plain": "| 196              | 638.457ms    | 100%             |",
      "text/html": "<pre>| 196              | 638.457ms    | 100%             |</pre>"
     },
     "metadata": {},
     "output_type": "display_data"
    },
    {
     "data": {
      "text/plain": "+------------------+--------------+------------------+",
      "text/html": "<pre>+------------------+--------------+------------------+</pre>"
     },
     "metadata": {},
     "output_type": "display_data"
    }
   ],
   "source": [
    "# Load the data\n",
    "data =  tc.SFrame('HongKong-dollar.sframe')\n",
    "\n",
    "# Make a train-test split\n",
    "train_data, test_data = data.random_split(0.8)\n",
    "\n",
    "# Create the model\n",
    "model = tc.image_classifier.create(train_data, target='label')\n",
    "\n",
    "# Save predictions to an SArray\n",
    "predictions = model.predict(test_data)\n",
    "\n",
    "# Evaluate the model and print the results\n",
    "metrics = model.evaluate(test_data)\n",
    "print(metrics['accuracy'])\n",
    "\n",
    "# Save the model for later use in Turi Create\n",
    "model.save('HongKong-dollar.model')\n",
    "\n",
    "# Export for use in Core ML (iOS only, optional)\n",
    "model.export_coreml('HKDollarImageClassifier.mlmodel')\n",
    "print(\"completed\")"
   ],
   "metadata": {
    "collapsed": false,
    "pycharm": {
     "is_executing": true
    }
   }
  },
  {
   "cell_type": "code",
   "execution_count": 1,
   "outputs": [
    {
     "data": {
      "text/plain": "Using GPU (Apple M1) to extract features.",
      "text/html": "<pre>Using GPU (Apple M1) to extract features.</pre>"
     },
     "metadata": {},
     "output_type": "display_data"
    },
    {
     "name": "stdout",
     "output_type": "stream",
     "text": [
      "['HKD 50']\n"
     ]
    }
   ],
   "source": [
    "import turicreate as tc\n",
    "#load the model\n",
    "model = tc.load_model('HongKong-dollar.model')\n",
    "\n",
    "# load the image\n",
    "image_data = tc.image_analysis.load_images('/Users/tomleung/Downloads/ITE3905_AI_project/50dollar.jpg')\n",
    "\n",
    "prediction1 = model.predict(image_data, output_type='class')\n",
    "\n",
    "# print the result\n",
    "print(prediction1)"
   ],
   "metadata": {
    "collapsed": false
   }
  },
  {
   "cell_type": "code",
   "execution_count": 3,
   "outputs": [
    {
     "data": {
      "text/plain": "Analyzing and extracting image features.",
      "text/html": "<pre>Analyzing and extracting image features.</pre>"
     },
     "metadata": {},
     "output_type": "display_data"
    },
    {
     "data": {
      "text/plain": "+------------------+--------------+------------------+",
      "text/html": "<pre>+------------------+--------------+------------------+</pre>"
     },
     "metadata": {},
     "output_type": "display_data"
    },
    {
     "data": {
      "text/plain": "| Images Processed | Elapsed Time | Percent Complete |",
      "text/html": "<pre>| Images Processed | Elapsed Time | Percent Complete |</pre>"
     },
     "metadata": {},
     "output_type": "display_data"
    },
    {
     "data": {
      "text/plain": "+------------------+--------------+------------------+",
      "text/html": "<pre>+------------------+--------------+------------------+</pre>"
     },
     "metadata": {},
     "output_type": "display_data"
    },
    {
     "data": {
      "text/plain": "| 45               | 316.289ms    | 100%             |",
      "text/html": "<pre>| 45               | 316.289ms    | 100%             |</pre>"
     },
     "metadata": {},
     "output_type": "display_data"
    },
    {
     "data": {
      "text/plain": "+------------------+--------------+------------------+",
      "text/html": "<pre>+------------------+--------------+------------------+</pre>"
     },
     "metadata": {},
     "output_type": "display_data"
    },
    {
     "name": "stdout",
     "output_type": "stream",
     "text": [
      "0.8888888888888888\n"
     ]
    },
    {
     "data": {
      "text/plain": "Using GPU (Apple M1) to extract features.",
      "text/html": "<pre>Using GPU (Apple M1) to extract features.</pre>"
     },
     "metadata": {},
     "output_type": "display_data"
    },
    {
     "data": {
      "text/plain": "Analyzing and extracting image features.",
      "text/html": "<pre>Analyzing and extracting image features.</pre>"
     },
     "metadata": {},
     "output_type": "display_data"
    },
    {
     "data": {
      "text/plain": "+------------------+--------------+------------------+",
      "text/html": "<pre>+------------------+--------------+------------------+</pre>"
     },
     "metadata": {},
     "output_type": "display_data"
    },
    {
     "data": {
      "text/plain": "| Images Processed | Elapsed Time | Percent Complete |",
      "text/html": "<pre>| Images Processed | Elapsed Time | Percent Complete |</pre>"
     },
     "metadata": {},
     "output_type": "display_data"
    },
    {
     "data": {
      "text/plain": "+------------------+--------------+------------------+",
      "text/html": "<pre>+------------------+--------------+------------------+</pre>"
     },
     "metadata": {},
     "output_type": "display_data"
    },
    {
     "data": {
      "text/plain": "| 45               | 307.509ms    | 100%             |",
      "text/html": "<pre>| 45               | 307.509ms    | 100%             |</pre>"
     },
     "metadata": {},
     "output_type": "display_data"
    },
    {
     "data": {
      "text/plain": "+------------------+--------------+------------------+",
      "text/html": "<pre>+------------------+--------------+------------------+</pre>"
     },
     "metadata": {},
     "output_type": "display_data"
    },
    {
     "name": "stdout",
     "output_type": "stream",
     "text": [
      "0.8888888888888888\n"
     ]
    }
   ],
   "source": [
    "import turicreate as tc\n",
    "\n",
    "# Load the test data\n",
    "model = tc.load_model('HongKong-dollar.model')\n",
    "\n",
    "test_data = tc.image_analysis.load_images('testData', with_path=True)\n",
    "\n",
    "test_data['label'] = test_data['path'].apply(lambda path:\n",
    "                                             'HKD 20' if '/10dollar' in path else\n",
    "                                             'HKD 50' if '/50dollar' in path else\n",
    "                                             'HKD 100' if '/100dollar' in path else\n",
    "                                             'HKD 500' if '/500dollar' in path else\n",
    "                                             'HKD 1000' if '/1000dollar' in path else\n",
    "                                             'unknown')\n",
    "\n",
    "# Make predictions on the test data\n",
    "predictions = model.predict(test_data)\n",
    "\n",
    "metrics = model.evaluate(test_data)\n",
    "\n",
    "print(metrics['accuracy'])\n"
   ],
   "metadata": {
    "collapsed": false
   }
  }
 ],
 "metadata": {
  "kernelspec": {
   "display_name": "Python 3 (ipykernel)",
   "language": "python",
   "name": "python3"
  },
  "language_info": {
   "codemirror_mode": {
    "name": "ipython",
    "version": 3
   },
   "file_extension": ".py",
   "mimetype": "text/x-python",
   "name": "python",
   "nbconvert_exporter": "python",
   "pygments_lexer": "ipython3",
   "version": "3.9.13"
  }
 },
 "nbformat": 4,
 "nbformat_minor": 5
}
